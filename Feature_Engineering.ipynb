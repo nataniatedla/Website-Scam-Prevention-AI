{
 "cells": [
  {
   "cell_type": "markdown",
   "metadata": {},
   "source": [
    "# Website Scam Prevention Using AI"
   ]
  },
  {
   "cell_type": "markdown",
   "metadata": {},
   "source": [
    "## Import Necessary Libraries"
   ]
  },
  {
   "cell_type": "code",
   "execution_count": 20,
   "metadata": {},
   "outputs": [],
   "source": [
    "import pandas as pd\n",
    "import re\n",
    "from urllib.parse import urlparse\n",
    "from sklearn.feature_extraction.text import TfidfVectorizer"
   ]
  },
  {
   "cell_type": "markdown",
   "metadata": {},
   "source": [
    "## Read and Display Data"
   ]
  },
  {
   "cell_type": "code",
   "execution_count": 21,
   "metadata": {},
   "outputs": [
    {
     "name": "stdout",
     "output_type": "stream",
     "text": [
      "             UID                          Domain  \\\n",
      "0  5ec26c3f7e42e          europian-hot-videos.ml   \n",
      "1  5ec29cc7edd6c       europian-erotic-videos.ml   \n",
      "2  5ec22e0841504  micro-deskto.azurewebsites.net   \n",
      "3  5ec16019ea2a3                 configure056.ga   \n",
      "4  5ec2ed981c104                  wincaphost.xyz   \n",
      "\n",
      "                                                 Url            Number  \\\n",
      "0   https://europian-hot-videos.ml/sol/ed/index.html  +49-800-505-2852   \n",
      "1    https://europian-erotic-videos.ml/ed/index.html  +49-800-505-2852   \n",
      "2  http://micro-deskto.azurewebsites.net/0EDhdfgd...   +1-844-288-8665   \n",
      "3  https://configure056.ga/WIn10010_jnh0101.nnb/X...   +1-844-223-6833   \n",
      "4  https://wincaphost.xyz/freezus/DF10010011010FI...   +1-855-303-5343   \n",
      "\n",
      "                    Host        Country        City              Ip       ASN  \\\n",
      "0     WEBSITEWELCOME.COM  United States     Houston  108.167.146.36  AS46606    \n",
      "1     WEBSITEWELCOME.COM  United States     Houston  108.167.146.36  AS46606    \n",
      "2  Microsoft Corporation  United States  Des Moines   104.43.221.31    AS8075   \n",
      "3       Cloudflare, Inc.  United States     Ashburn   104.27.150.38  AS13335    \n",
      "4       Cloudflare, Inc.  United States     Ashburn    104.28.2.167  AS13335    \n",
      "\n",
      "   Latitude  Longitude                              Hash                 Date  \\\n",
      "0        30   -95.4641  8b0ded62e108f41a193bc245b3c62567  2020-05-18 13:07:28   \n",
      "1        30   -95.4641  8b0ded62e108f41a193bc245b3c62567  2020-05-18 16:34:32   \n",
      "2        42   -93.6208  e037e490b00f6be85ee60b983678fc6b  2020-05-18 08:41:30   \n",
      "3        39   -77.4874  f54f22a9dd19a680b412d539d5429efc  2020-05-17 18:02:54   \n",
      "4        39   -77.4874  35fce0a355796cc902a6712c9f833a78  2020-05-18 22:19:00   \n",
      "\n",
      "  Mail  \n",
      "0  NaN  \n",
      "1  NaN  \n",
      "2  NaN  \n",
      "3  NaN  \n",
      "4  NaN  \n"
     ]
    }
   ],
   "source": [
    "data = pd.read_csv(r\"C:\\Users\\natie\\OneDrive\\Documents\\GitHub\\Website-Scam-Prevention-AI\\tech_support_scams_dataset.csv\")\n",
    "\n",
    "data.head()"
   ]
  },
  {
   "cell_type": "code",
   "execution_count": 22,
   "metadata": {},
   "outputs": [
    {
     "name": "stdout",
     "output_type": "stream",
     "text": [
      "(11375, 14)\n",
      "\n",
      "Index(['UID', 'Domain', 'Url', 'Number', 'Host', 'Country', 'City', 'Ip',\n",
      "       'ASN', 'Latitude', 'Longitude', 'Hash', 'Date', 'Mail'],\n",
      "      dtype='object')\n"
     ]
    }
   ],
   "source": [
    "print(data.shape)\n",
    "print()\n",
    "print(data.columns)"
   ]
  },
  {
   "cell_type": "code",
   "execution_count": 23,
   "metadata": {},
   "outputs": [
    {
     "name": "stdout",
     "output_type": "stream",
     "text": [
      "<bound method DataFrame.info of                  UID                          Domain  \\\n",
      "0      5ec26c3f7e42e          europian-hot-videos.ml   \n",
      "1      5ec29cc7edd6c       europian-erotic-videos.ml   \n",
      "2      5ec22e0841504  micro-deskto.azurewebsites.net   \n",
      "3      5ec16019ea2a3                 configure056.ga   \n",
      "4      5ec2ed981c104                  wincaphost.xyz   \n",
      "...              ...                             ...   \n",
      "11370  60e9f7b0d6d23               453inheritance.ga   \n",
      "11371  60e9f85c0e179                     hkx-ikg.xyz   \n",
      "11372  60ea0e15bb7e1                033instantive.ml   \n",
      "11373  60ea0f8c65edb    d7b0johdl2v8y.cloudfront.net   \n",
      "11374  60ea2064cca10                    922lagged.ga   \n",
      "\n",
      "                                                     Url            Number  \\\n",
      "0       https://europian-hot-videos.ml/sol/ed/index.html  +49-800-505-2852   \n",
      "1        https://europian-erotic-videos.ml/ed/index.html  +49-800-505-2852   \n",
      "2      http://micro-deskto.azurewebsites.net/0EDhdfgd...   +1-844-288-8665   \n",
      "3      https://configure056.ga/WIn10010_jnh0101.nnb/X...   +1-844-223-6833   \n",
      "4      https://wincaphost.xyz/freezus/DF10010011010FI...   +1-855-303-5343   \n",
      "...                                                  ...               ...   \n",
      "11370   https://453inheritance.ga/0WinDhelpli0ne891062x/   +1-866-989-1062   \n",
      "11371  https://hkx-ikg.xyz/dsbcjhds/W088MSi08880Moit0...   +1-800-484-7355   \n",
      "11372    https://033instantive.ml/0WinDhelpli0ne572861x/   +1-877-357-2861   \n",
      "11373  https://d7b0johdl2v8y.cloudfront.net/werrx01/?...   +1-844-428-0807   \n",
      "11374        https://922lagged.ga/0WinDhelpli0ne544025x/   +1-877-354-4025   \n",
      "\n",
      "                        Host         Country        City              Ip  \\\n",
      "0         WEBSITEWELCOME.COM   United States     Houston  108.167.146.36   \n",
      "1         WEBSITEWELCOME.COM   United States     Houston  108.167.146.36   \n",
      "2      Microsoft Corporation   United States  Des Moines   104.43.221.31   \n",
      "3           Cloudflare, Inc.   United States     Ashburn   104.27.150.38   \n",
      "4           Cloudflare, Inc.   United States     Ashburn    104.28.2.167   \n",
      "...                      ...             ...         ...             ...   \n",
      "11370       Cloudflare, Inc.   United States     Chicago   104.21.28.129   \n",
      "11371      DigitalOcean, LLC  United Kingdom      London   206.189.23.60   \n",
      "11372       Cloudflare, Inc.   United States     Chicago   104.21.40.157   \n",
      "11373       Amazon.com, Inc.  United Kingdom  Manchester   13.224.87.162   \n",
      "11374       Cloudflare, Inc.   United States     Chicago   104.21.67.227   \n",
      "\n",
      "            ASN  Latitude  Longitude                              Hash  \\\n",
      "0      AS46606         30  -95.46410  8b0ded62e108f41a193bc245b3c62567   \n",
      "1      AS46606         30  -95.46410  8b0ded62e108f41a193bc245b3c62567   \n",
      "2        AS8075        42  -93.62080  e037e490b00f6be85ee60b983678fc6b   \n",
      "3      AS13335         39  -77.48740  f54f22a9dd19a680b412d539d5429efc   \n",
      "4      AS13335         39  -77.48740  35fce0a355796cc902a6712c9f833a78   \n",
      "...         ...       ...        ...                               ...   \n",
      "11370  AS13335         42  -87.62980  9e805424bd6919f0ef202ca622782efd   \n",
      "11371  AS14061         52   -0.62150  fc970d2d3a063fdc3d6d3758171c5a8c   \n",
      "11372  AS13335         42  -87.62980  03d20725af718ac395b5a3139fc54568   \n",
      "11373  AS16509         53   -2.24263  f59f3db13a8b26477b7046b2a2a20f59   \n",
      "11374  AS13335         42  -87.62980  c4f7901e787c1b81a55ffb0c39d28f55   \n",
      "\n",
      "                      Date                    Mail  \n",
      "0      2020-05-18 13:07:28                     NaN  \n",
      "1      2020-05-18 16:34:32                     NaN  \n",
      "2      2020-05-18 08:41:30                     NaN  \n",
      "3      2020-05-17 18:02:54                     NaN  \n",
      "4      2020-05-18 22:19:00                     NaN  \n",
      "...                    ...                     ...  \n",
      "11370  2021-07-10 21:40:34    abuse@cloudflare.com  \n",
      "11371  2021-07-10 21:43:25  abuse@digitalocean.com  \n",
      "11372  2021-07-10 23:16:07    abuse@cloudflare.com  \n",
      "11373  2021-07-10 23:22:21     abuse@amazonaws.com  \n",
      "11374  2021-07-11 00:34:14    abuse@cloudflare.com  \n",
      "\n",
      "[11375 rows x 14 columns]>\n"
     ]
    }
   ],
   "source": [
    "print(data.info)"
   ]
  },
  {
   "cell_type": "markdown",
   "metadata": {},
   "source": [
    "## Feature Extraction"
   ]
  },
  {
   "cell_type": "code",
   "execution_count": 24,
   "metadata": {},
   "outputs": [
    {
     "name": "stdout",
     "output_type": "stream",
     "text": [
      "             UID                          Domain  \\\n",
      "0  5ec26c3f7e42e          europian-hot-videos.ml   \n",
      "1  5ec29cc7edd6c       europian-erotic-videos.ml   \n",
      "2  5ec22e0841504  micro-deskto.azurewebsites.net   \n",
      "3  5ec16019ea2a3                 configure056.ga   \n",
      "4  5ec2ed981c104                  wincaphost.xyz   \n",
      "\n",
      "                                                 Url            Number  \\\n",
      "0   https://europian-hot-videos.ml/sol/ed/index.html  +49-800-505-2852   \n",
      "1    https://europian-erotic-videos.ml/ed/index.html  +49-800-505-2852   \n",
      "2  http://micro-deskto.azurewebsites.net/0EDhdfgd...   +1-844-288-8665   \n",
      "3  https://configure056.ga/WIn10010_jnh0101.nnb/X...   +1-844-223-6833   \n",
      "4  https://wincaphost.xyz/freezus/DF10010011010FI...   +1-855-303-5343   \n",
      "\n",
      "                    Host        Country        City              Ip       ASN  \\\n",
      "0     WEBSITEWELCOME.COM  United States     Houston  108.167.146.36  AS46606    \n",
      "1     WEBSITEWELCOME.COM  United States     Houston  108.167.146.36  AS46606    \n",
      "2  Microsoft Corporation  United States  Des Moines   104.43.221.31    AS8075   \n",
      "3       Cloudflare, Inc.  United States     Ashburn   104.27.150.38  AS13335    \n",
      "4       Cloudflare, Inc.  United States     Ashburn    104.28.2.167  AS13335    \n",
      "\n",
      "   Latitude  ...                 Date Mail url_length count_-  count_@  \\\n",
      "0        30  ...  2020-05-18 13:07:28  NaN         48       2        0   \n",
      "1        30  ...  2020-05-18 16:34:32  NaN         47       2        0   \n",
      "2        42  ...  2020-05-18 08:41:30  NaN         86       4        0   \n",
      "3        39  ...  2020-05-17 18:02:54  NaN         67       0        0   \n",
      "4        39  ...  2020-05-18 22:19:00  NaN         58       0        0   \n",
      "\n",
      "   count_.  count_?  suspicious_word_count  domain_length  domain_count_dots  \n",
      "0        2        0                      1             22                  1  \n",
      "1        2        0                      1             25                  1  \n",
      "2        2        1                      0             30                  2  \n",
      "3        2        0                      0             15                  1  \n",
      "4        2        0                      1             14                  1  \n",
      "\n",
      "[5 rows x 22 columns]\n"
     ]
    }
   ],
   "source": [
    "def extract_features(url):\n",
    "    features = {}\n",
    "    \n",
    "    # Length of URL\n",
    "    features['url_length'] = len(url)\n",
    "    \n",
    "    # Count of special characters\n",
    "    features['count_-'] = url.count('-')\n",
    "    features['count_@'] = url.count('@')\n",
    "    features['count_.'] = url.count('.')\n",
    "    features['count_?'] = url.count('?')\n",
    "    \n",
    "    # Presence of suspicious words\n",
    "    suspicious_words = ['login', 'secure', 'bank', 'account', 'update', 'free', 'password', 'hot', 'erotic', 'sexy', 'seduction']\n",
    "    features['suspicious_word_count'] = sum(word in url for word in suspicious_words)\n",
    "    \n",
    "    # Domain-based features\n",
    "    parsed_url = urlparse(url)\n",
    "    domain = parsed_url.netloc\n",
    "    features['domain_length'] = len(domain)\n",
    "    features['domain_count_dots'] = domain.count('.')\n",
    "    \n",
    "    return features\n",
    "\n",
    "# Apply feature extraction\n",
    "data_features = data['Url'].apply(extract_features)\n",
    "data_features = pd.json_normalize(data_features)\n",
    "\n",
    "# Combine the features with the original dataframe\n",
    "data = pd.concat([data, data_features], axis=1)\n",
    "print(data.head())\n"
   ]
  }
 ],
 "metadata": {
  "kernelspec": {
   "display_name": "Python 3",
   "language": "python",
   "name": "python3"
  },
  "language_info": {
   "codemirror_mode": {
    "name": "ipython",
    "version": 3
   },
   "file_extension": ".py",
   "mimetype": "text/x-python",
   "name": "python",
   "nbconvert_exporter": "python",
   "pygments_lexer": "ipython3",
   "version": "3.12.4"
  }
 },
 "nbformat": 4,
 "nbformat_minor": 2
}
